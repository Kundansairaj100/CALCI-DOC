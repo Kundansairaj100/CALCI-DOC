{
  "nbformat": 4,
  "nbformat_minor": 0,
  "metadata": {
    "colab": {
      "provenance": [],
      "include_colab_link": true
    },
    "kernelspec": {
      "name": "python3",
      "display_name": "Python 3"
    },
    "language_info": {
      "name": "python"
    }
  },
  "cells": [
    {
      "cell_type": "markdown",
      "metadata": {
        "id": "view-in-github",
        "colab_type": "text"
      },
      "source": [
        "<a href=\"https://colab.research.google.com/github/Kundansairaj100/CALCI-DOC/blob/main/PYTHON_PROJECT.ipynb\" target=\"_parent\"><img src=\"https://colab.research.google.com/assets/colab-badge.svg\" alt=\"Open In Colab\"/></a>"
      ]
    },
    {
      "cell_type": "markdown",
      "source": [
        "\n",
        "**PROJECT TITLE:** CALCI-DOC (A MULTI-MEDICAL CALCULATOR)"
      ],
      "metadata": {
        "id": "EnYrjqSqtWRk"
      }
    },
    {
      "cell_type": "markdown",
      "source": [
        "**CODES:**\n",
        "\n",
        "\n",
        "1.   BODY MASS INDEX - BMI\n",
        "2.   IV DRUG DOSE CALCULATIONS- IVD\n",
        "\n",
        "1.   BLOOD SUGAR LEVEL- BSL\n",
        "2.   LIPID PROFILE - LP\n",
        "\n",
        "1.   DRIP RATE - DR\n",
        "2.   NUMBER OF TABLETS- NOT\n",
        "\n",
        "1.   HEALTHY HEART RATE - HHR\n",
        "2.   IDEAL BODY WEIGHT- IBW\n",
        "\n",
        "1.   BLOOD PRESSURE- BP\n",
        "2.   COLONOSCOPY CALCULATOR- CC\n",
        "\n",
        "1.   BONE DENSITY CALCULATOR- BD\n",
        "\n",
        "\n",
        "\n",
        "\n",
        "\n",
        "\n",
        "\n",
        "\n",
        "\n",
        "\n",
        "\n"
      ],
      "metadata": {
        "id": "66ds33Fkqgoz"
      }
    },
    {
      "cell_type": "markdown",
      "source": [
        "#**MAIN PROGRAMME FOR CALCI-DOC**"
      ],
      "metadata": {
        "id": "yjv-80VCq_X3"
      }
    },
    {
      "cell_type": "code",
      "source": [
        "def BMI():\n",
        "  weight=int(input(\"Please enter your weight in (Kgs):\"))\n",
        "  height=float(input(\"Please enter your height in (Meters):\"))\n",
        "  BMI=weight/height**2\n",
        "  print(f\"The BMI of your body is {BMI:.2f}\")\n",
        "  if BMI<18.5:\n",
        "    print(\"You're Underweight\")\n",
        "  if BMI>=18.5 and BMI<=24.9:\n",
        "    print(\"You're Healthy\")\n",
        "  if BMI>=25 and BMI<=29.9:\n",
        "    print(\"You're Overweight\")\n",
        "  if BMI>=30:\n",
        "    print(\"You're Obessed\")\n",
        "\n",
        "def IVD():\n",
        "  D=int(input(\"Desired/Administered Heparin in (units):\"))\n",
        "  H=int(input(\"Amount of Heparin Available in (units):\"))\n",
        "  IVD=D/H\n",
        "  print(f\"The Required rate of Administration to achieve {D} units is {IVD}ml\")\n",
        "\n",
        "def BSL():\n",
        "  sugarlevel=float(input(\"Enter your blood sugar level : \"))\n",
        "\n",
        "  if sugarlevel < 70:\n",
        "      category = \"low\"\n",
        "  elif 70 <= sugarlevel < 100:\n",
        "      category = \"normal\"\n",
        "  elif 100 <= sugarlevel < 126:\n",
        "      category = \"slightly elevated\"\n",
        "  elif sugarlevel >= 126:\n",
        "      category = \"high\"\n",
        "\n",
        "  print(\"Your blood sugar level is\", category)\n",
        "\n",
        "def LP():\n",
        "  total_cholesterol = float(input(\"Enter your total cholesterol level: \"))\n",
        "  HDL = float(input(\"Enter your HDL cholesterol level: \"))\n",
        "  triglycerides = float(input(\"Enter your triglycerides level: \"))\n",
        "\n",
        "  LDL = total_cholesterol - HDL - (triglycerides / 5)\n",
        "\n",
        "  ratio = total_cholesterol / HDL\n",
        "\n",
        "  if LDL < 100:\n",
        "      ldl_category = \"Optimal\"\n",
        "  elif 100 <= LDL <= 129:\n",
        "      ldl_category = \"Near Optimal\"\n",
        "  elif 130 <= LDL <= 159:\n",
        "      ldl_category = \"Borderline High\"\n",
        "  elif 160 <= LDL <= 189:\n",
        "      ldl_category = \"High\"\n",
        "  else:\n",
        "    ldl_category = \"Very High\"\n",
        "\n",
        "  if ratio < 3.5:\n",
        "      ratio_category = \"Desirable\"\n",
        "  elif 3.5 <= ratio <= 5.0:\n",
        "      ratio_category = \"Moderate Risk\"\n",
        "  else:\n",
        "      ratio_category = \"High Risk\"\n",
        "\n",
        "  print(\"Your LDL cholesterol level is: {:.2f} mg/dL\".format(LDL))\n",
        "  print(\"Your LDL cholesterol category is: {}\".format(ldl_category))\n",
        "  print(\"Your total cholesterol to HDL ratio is: {:.2f}\".format(ratio))\n",
        "  print(\"Your total cholesterol to HDL ratio category is: {}\".format(ratio_category))\n",
        "\n",
        "def DR():\n",
        "  volume=int(input(\"Enter the Available Volume in (ml):\"))\n",
        "  time=int(input(\"Enter the Required time in (minutes):\"))\n",
        "  df=float(input(\"Enter the Drip factor in (gtt/min):\"))\n",
        "  DR=volume*df/time\n",
        "  print(f\"The Drip Rate for {volume} ml is {DR:.2f} ggt/ml\")\n",
        "\n",
        "def NOT():\n",
        "  D=int(input(\"Enter the desired Dosage required:\"))\n",
        "  S=int(input(\"Enter the Stock strength of the Tablet:\"))\n",
        "  N=D/S\n",
        "  print(f\"The required amount of tablets for {D} dosage is {N:.2f}\")\n",
        "\n",
        "def HHR():\n",
        "  age = int(input(\"Enter your age: \"))\n",
        "  resting_heart_rate = int(input(\"Enter your resting heart rate: \"))\n",
        "  max_heart_rate = 220 - age\n",
        "  target_heart_rate = (max_heart_rate - resting_heart_rate) * 0.6 + resting_heart_rate\n",
        "  print(f\"Your maximum heart rate is {max_heart_rate} beats per minute.\")\n",
        "  print(f\"Your target heart rate during exercise should be {target_heart_rate:.2f} to {max_heart_rate:.2f} beats per minute.\")\n",
        "\n",
        "def IBW():\n",
        "    def calculate_ideal_weight(height, gender):\n",
        "      if gender.lower() == \"male\":\n",
        "         ideal_weight = (height - 100) * 0.9\n",
        "      elif gender.lower() == \"female\":\n",
        "          ideal_weight = (height - 100) * 0.85\n",
        "      else:\n",
        "          raise ValueError(\"Invalid gender. Please provide 'male' or 'female'.\")\n",
        "\n",
        "      return ideal_weight\n",
        "\n",
        "\n",
        "    height = float(input(\"Enter your height in centimeters: \"))\n",
        "    gender = input(\"Enter your gender (male/female): \")\n",
        "\n",
        "    try:\n",
        "          ideal_weight = calculate_ideal_weight(height, gender)\n",
        "          print(f\"Your ideal weight is {ideal_weight:.2f} kilograms.\")\n",
        "    except ValueError as e:\n",
        "          print(str(e))\n",
        "\n",
        "def BP():\n",
        "  def within_range(value, min_value, max_value):\n",
        "    return value >= min_value and value <= max_value\n",
        "  systolic_pressure = int(input(\"Enter your systolic blood pressure: \"))\n",
        "  diastolic_pressure = int(input(\"Enter your diastolic blood pressure: \"))\n",
        "  if within_range(systolic_pressure, 90, 119) and within_range(diastolic_pressure, 60, 79):\n",
        "      print(\"Normal\")\n",
        "  elif within_range(systolic_pressure, 120, 129) and within_range(diastolic_pressure, 80, 84):\n",
        "       print(\"Elevated\")\n",
        "  elif within_range(systolic_pressure, 130, 139) or within_range(diastolic_pressure, 85, 89):\n",
        "       print(\"Stage 1 Hypertension\")\n",
        "  elif within_range(systolic_pressure, 140, 180) or within_range(diastolic_pressure, 90, 120):\n",
        "        print(\"Stage 2 Hypertension\")\n",
        "  else:\n",
        "        print(\"Hypertensive Crisis\")\n",
        "def CC():\n",
        "  age = int(input(\"Please Enter Your age: \"))\n",
        "  if age < 50:\n",
        "        print(\"Colonoscopy is generally recommended for individuals aged 50 and above.\")\n",
        "  elif age >= 50 and age < 60:\n",
        "        print(\"It is recommended to have a colonoscopy every 10 years.\")\n",
        "  elif age >= 60 and age < 75:\n",
        "        print(\"It is recommended to have a colonoscopy every 5 to 10 years.\")\n",
        "  else:\n",
        "        print(\"Please consult with your healthcare provider for personalized recommendations.\")\n",
        "def BD():\n",
        "  def calculate_t_score(bmd, bmd_reference):\n",
        "    t_score = (bmd - bmd_reference) / bmd_reference * 100\n",
        "    return t_score\n",
        "\n",
        "  def bone_density_calculator():\n",
        "      print(\"Welcome to the Bone Density Calculator!\")\n",
        "      print(\"Please enter the required information.\")\n",
        "\n",
        "      bmd = float(input(\"Enter the measured bone mineral density (BMD) in g/cm^2: \"))\n",
        "\n",
        "      bmd_reference = float(input(\"Enter the reference bone mineral density (BMD) in g/cm^2 for comparison: \"))\n",
        "\n",
        "      t_score = calculate_t_score(bmd, bmd_reference)\n",
        "\n",
        "      print(f\"The calculated T-score is {t_score:.2f}.\")\n",
        "      print(\"Your Ideal Bone Density T-Score Should Be: -1 to +1\")\n",
        "\n",
        "  bone_density_calculator()\n",
        "\n",
        "print('WELCOME To CALCI-DOC!')\n",
        "print(\"From The Given Menu Please Enter Your Desired Code.\")\n",
        "print()\n",
        "print('M    E    N    U :')\n",
        "print('------------------------------------------------------------')\n",
        "print('''\n",
        "1)BODY MASS INDEX - BMI\n",
        "\n",
        "2)IV DRUG DOSE CALCULATIONS- IVD\n",
        "\n",
        "3)BLOOD SUGAR LEVEL- BSL\n",
        "\n",
        "4)LIPID PROFILE - LP\n",
        "\n",
        "5)DRIP RATE - DR\n",
        "\n",
        "6)NUMBER OF TABLETS- NOT\n",
        "\n",
        "7)HEALTHY HEART RATE - HHR\n",
        "\n",
        "8)IDEAL BODY WEIGHT- IBW\n",
        "\n",
        "9)BLOOD PRESSURE- BP\n",
        "\n",
        "10)COLONOSCOPY CALCULATOR- CC\n",
        "\n",
        "11)BONE DENSITY CALCULATOR- BD''')\n",
        "print('------------------------------------------------------------')\n",
        "p='yes'\n",
        "while p=='yes':\n",
        "  c=input(\"Enter a code:\")\n",
        "  if c=='BMI':\n",
        "    BMI()\n",
        "    p=input(\"Would You Like To Continue?:\")\n",
        "    print('------------------------------------------------------------')\n",
        "  elif c=='IVD':\n",
        "    IVD()\n",
        "    p=input(\"Would You Like To Continue?:\")\n",
        "    print('------------------------------------------------------------')\n",
        "  elif c=='BSL':\n",
        "    BSL()\n",
        "    p=input(\"Would You Like To Continue?:\")\n",
        "    print('------------------------------------------------------------')\n",
        "  elif c=='LP':\n",
        "    LP()\n",
        "    p=input(\"Would You Like To Continue?:\")\n",
        "    print('------------------------------------------------------------')\n",
        "  elif c=='DR':\n",
        "    DR()\n",
        "    p=input(\"Would You Like To Continue?:\")\n",
        "    print('------------------------------------------------------------')\n",
        "  elif c=='NOT':\n",
        "    NOT()\n",
        "    p=input(\"Would You Like To Continue?:\")\n",
        "    print('------------------------------------------------------------')\n",
        "  elif c=='HHR':\n",
        "    HHR()\n",
        "    p=input(\"Would You Like To Continue?:\")\n",
        "    print('------------------------------------------------------------')\n",
        "  elif c=='IBW':\n",
        "    IBW()\n",
        "    p=input(\"Would You Like To Continue?:\")\n",
        "    print('------------------------------------------------------------')\n",
        "  elif c=='BP':\n",
        "    BP()\n",
        "    p=input(\"Would You Like To Continue?:\")\n",
        "    print('------------------------------------------------------------')\n",
        "  elif c=='CC':\n",
        "    CC()\n",
        "    p=input(\"Would You Like To Continue?:\")\n",
        "    print('------------------------------------------------------------')\n",
        "  elif c=='BD':\n",
        "    BD()\n",
        "    p=input(\"Would You Like To Continue?:\")\n",
        "    print('------------------------------------------------------------')\n",
        "  else:\n",
        "    print(\"WRONG CODE ENRTERED! \")\n",
        "    p=input(\"Would You Like To Continue?:\")\n",
        "    print('------------------------------------------------------------')\n",
        "else:\n",
        "  print(\"\")\n",
        "  print(\"THANKYOU! Hope To See You Again! :)\")\n",
        "\n",
        "\n",
        "\n",
        "\n"
      ],
      "metadata": {
        "id": "fdorcgJUrByh",
        "colab": {
          "base_uri": "https://localhost:8080/"
        },
        "outputId": "8b638b20-00cc-4c48-9ee0-5d0d7bc53d2d"
      },
      "execution_count": null,
      "outputs": [
        {
          "output_type": "stream",
          "name": "stdout",
          "text": [
            "WELCOME To CALCI-DOC!\n",
            "From The Given Menu Please Enter Your Desired Code.\n",
            "\n",
            "M    E    N    U :\n",
            "------------------------------------------------------------\n",
            "\n",
            "1)BODY MASS INDEX - BMI\n",
            "\n",
            "2)IV DRUG DOSE CALCULATIONS- IVD\n",
            "\n",
            "3)BLOOD SUGAR LEVEL- BSL\n",
            "\n",
            "4)LIPID PROFILE - LP\n",
            "\n",
            "5)DRIP RATE - DR\n",
            "\n",
            "6)NUMBER OF TABLETS- NOT\n",
            "\n",
            "7)HEALTHY HEART RATE - HHR\n",
            "\n",
            "8)IDEAL BODY WEIGHT- IBW\n",
            "\n",
            "9)BLOOD PRESSURE- BP\n",
            "\n",
            "10)COLONOSCOPY CALCULATOR- CC\n",
            "\n",
            "11)BONE DENSITY CALCULATOR- BD\n",
            "------------------------------------------------------------\n",
            "Enter a code:BD\n",
            "Welcome to the Bone Density Calculator!\n",
            "Please enter the required information.\n",
            "Enter the measured bone mineral density (BMD) in g/cm^2: 24\n",
            "Enter the reference bone mineral density (BMD) in g/cm^2 for comparison: 2\n",
            "The calculated T-score is 1100.00.\n",
            "Your Ideal Bone Density T-Score Should Be: -1 to +1\n",
            "Would You Like To Continue?:no\n",
            "------------------------------------------------------------\n",
            "\n",
            "THANKYOU! Hope To See You Again! :)\n"
          ]
        }
      ]
    },
    {
      "cell_type": "markdown",
      "source": [
        "#**INDIVIDUAL CODE BLOCK AREA**"
      ],
      "metadata": {
        "id": "j556fly_rCNA"
      }
    },
    {
      "cell_type": "markdown",
      "source": [
        "1) BMI CALCULATOR"
      ],
      "metadata": {
        "id": "bKS_JSrGrIrW"
      }
    },
    {
      "cell_type": "code",
      "source": [
        "weight=int(input(\"Please enter your weight in (Kgs):\"))\n",
        "height=float(input(\"Please enter your height in (Meters):\"))\n",
        "BMI=weight/height**2\n",
        "print(f\"The BMI of your body is {BMI:.2f}\")\n",
        "if BMI<18.5:\n",
        "  print(\"You're Underweight\")\n",
        "if BMI>=18.5 and BMI<=24.9:\n",
        "  print(\"You're Healthy\")\n",
        "if BMI>=25 and BMI<=29.9:\n",
        "  print(\"You're Overweight\")\n",
        "if BMI>=30:\n",
        "  print(\"You're Obessed\")"
      ],
      "metadata": {
        "colab": {
          "base_uri": "https://localhost:8080/"
        },
        "id": "Y7fe5kdWrIW-",
        "outputId": "1a4d5cb0-bc46-49c5-94fa-c172b87c7af6"
      },
      "execution_count": null,
      "outputs": [
        {
          "output_type": "stream",
          "name": "stdout",
          "text": [
            "Please enter your weight in (Kgs):60\n",
            "Please enter your height in (Meters):1.52\n",
            "The BMI of your body is 25.97\n",
            "You're Overweight\n"
          ]
        }
      ]
    },
    {
      "cell_type": "markdown",
      "source": [
        "2) IVD CALCULATOR"
      ],
      "metadata": {
        "id": "KOzKfqM4tb4B"
      }
    },
    {
      "cell_type": "code",
      "source": [
        "D=int(input(\"Desired/Administered Heparin in (units):\"))\n",
        "H=int(input(\"Amount of Heparin Available in (units):\"))\n",
        "IVD=D/H\n",
        "print(f\"The Required rate of Administration to achieve {D} units is {IVD}ml\")"
      ],
      "metadata": {
        "colab": {
          "base_uri": "https://localhost:8080/"
        },
        "id": "GYHcPTX3td_y",
        "outputId": "54b0c04e-784e-4481-ac98-375fb784aa21"
      },
      "execution_count": null,
      "outputs": [
        {
          "output_type": "stream",
          "name": "stdout",
          "text": [
            "Desired/Administered Heparin in (units):5000\n",
            "Amount of Heparin Available in (units):10000\n",
            "The Required rate of Administration to achieve 5000 units is 0.5ml\n"
          ]
        }
      ]
    },
    {
      "cell_type": "markdown",
      "source": [
        "3) BLOOD SUGAR LEVEL CALCULATOR"
      ],
      "metadata": {
        "id": "syfrNhKuwTIF"
      }
    },
    {
      "cell_type": "code",
      "source": [
        "sugarlevel=float(input(\"Enter your blood sugar level : \"))\n",
        "\n",
        "if sugarlevel < 70:\n",
        "    category = \"low\"\n",
        "elif 70 <= sugarlevel < 100:\n",
        "    category = \"normal\"\n",
        "elif 100 <= sugarlevel < 126:\n",
        "    category = \"slightly elevated\"\n",
        "elif sugarlevel >= 126:\n",
        "    category = \"high\"\n",
        "\n",
        "print(\"Your blood sugar level is\", category)"
      ],
      "metadata": {
        "colab": {
          "base_uri": "https://localhost:8080/"
        },
        "id": "q2RqkvA52t3t",
        "outputId": "15652c7a-dfe5-4e6c-b60b-c3efc3419073"
      },
      "execution_count": null,
      "outputs": [
        {
          "output_type": "stream",
          "name": "stdout",
          "text": [
            "Enter your blood sugar level : 120\n",
            "Your blood sugar level is slightly elevated\n"
          ]
        }
      ]
    },
    {
      "cell_type": "markdown",
      "source": [
        "4) LIPID PROFILE CALCULATOR"
      ],
      "metadata": {
        "id": "OkdvREwp5FhR"
      }
    },
    {
      "cell_type": "code",
      "source": [
        "total_cholesterol = float(input(\"Enter your total cholesterol level: \"))\n",
        "HDL = float(input(\"Enter your HDL cholesterol level: \"))\n",
        "triglycerides = float(input(\"Enter your triglycerides level: \"))\n",
        "\n",
        "LDL = total_cholesterol - HDL - (triglycerides / 5)\n",
        "\n",
        "ratio = total_cholesterol / HDL\n",
        "\n",
        "if LDL < 100:\n",
        "    ldl_category = \"Optimal\"\n",
        "elif 100 <= LDL <= 129:\n",
        "    ldl_category = \"Near Optimal\"\n",
        "elif 130 <= LDL <= 159:\n",
        "    ldl_category = \"Borderline High\"\n",
        "elif 160 <= LDL <= 189:\n",
        "    ldl_category = \"High\"\n",
        "else:\n",
        "  ldl_category = \"Very High\"\n",
        "\n",
        "if ratio < 3.5:\n",
        "    ratio_category = \"Desirable\"\n",
        "elif 3.5 <= ratio <= 5.0:\n",
        "    ratio_category = \"Moderate Risk\"\n",
        "else:\n",
        "    ratio_category = \"High Risk\"\n",
        "\n",
        "print(\"Your LDL cholesterol level is: {:.2f} mg/dL\".format(LDL))\n",
        "print(\"Your LDL cholesterol category is: {}\".format(ldl_category))\n",
        "print(\"Your total cholesterol to HDL ratio is: {:.2f}\".format(ratio))\n",
        "print(\"Your total cholesterol to HDL ratio category is: {}\".format(ratio_category))\n"
      ],
      "metadata": {
        "colab": {
          "base_uri": "https://localhost:8080/"
        },
        "id": "Civf4PHH5KOH",
        "outputId": "cb2e4798-e7d8-41d2-96cb-a2cdca472b32"
      },
      "execution_count": null,
      "outputs": [
        {
          "output_type": "stream",
          "name": "stdout",
          "text": [
            "Enter your total cholesterol level: 332\n",
            "Enter your HDL cholesterol level: 123\n",
            "Enter your triglycerides level: 124\n",
            "Your LDL cholesterol level is: 184.20 mg/dL\n",
            "Your LDL cholesterol category is: High\n",
            "Your total cholesterol to HDL ratio is: 2.70\n",
            "Your total cholesterol to HDL ratio category is: Desirable\n"
          ]
        }
      ]
    },
    {
      "cell_type": "markdown",
      "source": [
        "5) DR CALCULATOR"
      ],
      "metadata": {
        "id": "3sbE4I9GCwkW"
      }
    },
    {
      "cell_type": "code",
      "source": [
        "volume=int(input(\"Enter the Available Volume in (ml):\"))\n",
        "time=int(input(\"Enter the Required time in (minutes):\"))\n",
        "df=float(input(\"Enter the Drip factor in (gtt/min):\"))\n",
        "DR=volume*df/time\n",
        "print(f\"The Drip Rate for {volume} ml is {DR:.2f} ggt/ml\")\n"
      ],
      "metadata": {
        "id": "rxOFWUl2Czuz",
        "colab": {
          "base_uri": "https://localhost:8080/"
        },
        "outputId": "a6619d02-e8c4-485e-d9f9-421c509de66f"
      },
      "execution_count": null,
      "outputs": [
        {
          "output_type": "stream",
          "name": "stdout",
          "text": [
            "Enter the Available Volume in (ml):2000\n",
            "Enter the Required time in (minutes):45\n",
            "Enter the Drip factor in (gtt/min):2\n",
            "The Drip Rate for 2000 ml is 88.89 ggt/ml\n"
          ]
        }
      ]
    },
    {
      "cell_type": "markdown",
      "source": [
        "6) NUMBER OF TABLETS"
      ],
      "metadata": {
        "id": "d2cK_LrXyZmw"
      }
    },
    {
      "cell_type": "code",
      "source": [
        "D=int(input(\"Enter the desired Dosage required:\"))\n",
        "S=int(input(\"Enter the Stock strength of the Tablet:\"))\n",
        "N=D/S\n",
        "print(f\"The required amount of tablets for {D} dosage is {N:.2f}\")"
      ],
      "metadata": {
        "colab": {
          "base_uri": "https://localhost:8080/"
        },
        "id": "8ad99mj1zC8H",
        "outputId": "0cf47844-0a79-4ff7-e226-d42a2710fa1c"
      },
      "execution_count": null,
      "outputs": [
        {
          "output_type": "stream",
          "name": "stdout",
          "text": [
            "Enter the desired Dosage required:1500\n",
            "Enter the Stock strength of the Tablet:250\n",
            "The required amount of tablets for 1500 dosage is 6.0\n"
          ]
        }
      ]
    },
    {
      "cell_type": "markdown",
      "source": [
        "7) HEALTHY HEART RATE CALCULATOR"
      ],
      "metadata": {
        "id": "4zdXPiLnBGOM"
      }
    },
    {
      "cell_type": "code",
      "source": [
        "age = int(input(\"Enter your age: \"))\n",
        "resting_heart_rate = int(input(\"Enter your resting heart rate: \"))\n",
        "\n",
        "max_heart_rate = 220 - age\n",
        "target_heart_rate = (max_heart_rate - resting_heart_rate) * 0.6 + resting_heart_rate\n",
        "\n",
        "print(f\"Your maximum heart rate is {max_heart_rate} beats per minute.\")\n",
        "print(f\"Your target heart rate during exercise should be {target_heart_rate:.2f} to {max_heart_rate:.2f} beats per minute.\")\n"
      ],
      "metadata": {
        "colab": {
          "base_uri": "https://localhost:8080/"
        },
        "id": "Isz8QCApBFEf",
        "outputId": "e9b776c7-1f97-4192-9385-48b0a72164ff"
      },
      "execution_count": null,
      "outputs": [
        {
          "output_type": "stream",
          "name": "stdout",
          "text": [
            "Enter your age: 35\n",
            "Enter your resting heart rate: 78\n",
            "Your maximum heart rate is 185 beats per minute.\n",
            "Your target heart rate during exercise should be 142.20 to 185.00 beats per minute.\n"
          ]
        }
      ]
    },
    {
      "cell_type": "markdown",
      "source": [
        "8) IDEAL BODY WEIGHT CALCULATOR"
      ],
      "metadata": {
        "id": "_U9YwiNF7i_U"
      }
    },
    {
      "cell_type": "code",
      "source": [
        "def calculate_ideal_weight(height, gender):\n",
        "    if gender.lower() == \"male\":\n",
        "        ideal_weight = (height - 100) * 0.9\n",
        "    elif gender.lower() == \"female\":\n",
        "        ideal_weight = (height - 100) * 0.85\n",
        "    else:\n",
        "        raise ValueError(\"Invalid gender. Please provide 'male' or 'female'.\")\n",
        "\n",
        "    return ideal_weight\n",
        "\n",
        "\n",
        "height = float(input(\"Enter your height in centimeters: \"))\n",
        "gender = input(\"Enter your gender (male/female): \")\n",
        "\n",
        "try:\n",
        "    ideal_weight = calculate_ideal_weight(height, gender)\n",
        "    print(f\"Your ideal weight is {ideal_weight:.2f} kilograms.\")\n",
        "except ValueError as e:\n",
        "    print(str(e))"
      ],
      "metadata": {
        "colab": {
          "base_uri": "https://localhost:8080/"
        },
        "id": "ftSU1H3h7n8O",
        "outputId": "8c103d41-2005-4f09-974a-4a9516a65517"
      },
      "execution_count": null,
      "outputs": [
        {
          "output_type": "stream",
          "name": "stdout",
          "text": [
            "Enter your height in centimeters: 168\n",
            "Enter your gender (male/female): male\n",
            "Your ideal weight is 61.20 kilograms.\n"
          ]
        }
      ]
    },
    {
      "cell_type": "markdown",
      "source": [
        "9) BLOOD PRESSURE CALCULATOR"
      ],
      "metadata": {
        "id": "btm7_PVqCJRq"
      }
    },
    {
      "cell_type": "code",
      "source": [
        "def within_range(value, min_value, max_value):\n",
        "    return value >= min_value and value <= max_value\n",
        "\n",
        "def blood_pressure(systolic_pressure, diastolic_pressure):\n",
        "    if within_range(systolic_pressure, 90, 119) and within_range(diastolic_pressure, 60, 79):\n",
        "        return \"Normal\"\n",
        "    elif within_range(systolic_pressure, 120, 129) and within_range(diastolic_pressure, 80, 84):\n",
        "        return \"Elevated\"\n",
        "    elif within_range(systolic_pressure, 130, 139) or within_range(diastolic_pressure, 85, 89):\n",
        "        return \"Stage 1 Hypertension\"\n",
        "    elif within_range(systolic_pressure, 140, 180) or within_range(diastolic_pressure, 90, 120):\n",
        "        return \"Stage 2 Hypertension\"\n",
        "    else:\n",
        "        return \"Hypertensive Crisis\"\n",
        "\n",
        "systolic_pressure = int(input(\"Enter your systolic blood pressure: \"))\n",
        "diastolic_pressure = int(input(\"Enter your diastolic blood pressure: \"))\n",
        "\n",
        "level = blood_pressure(systolic_pressure, diastolic_pressure)\n",
        "\n",
        "print(f\"Your blood pressure level is {level}\")\n"
      ],
      "metadata": {
        "colab": {
          "base_uri": "https://localhost:8080/"
        },
        "id": "GtlX_WSvFVMb",
        "outputId": "1468efec-74c6-44ab-e63c-df762035e3f2"
      },
      "execution_count": null,
      "outputs": [
        {
          "output_type": "stream",
          "name": "stdout",
          "text": [
            "Enter your systolic blood pressure: 98\n",
            "Enter your diastolic blood pressure: 67\n",
            "Your blood pressure level is Normal\n"
          ]
        }
      ]
    },
    {
      "cell_type": "markdown",
      "source": [
        "10) COLONOSCOPY CALCULATOR"
      ],
      "metadata": {
        "id": "yxwyxjuedXjq"
      }
    },
    {
      "cell_type": "code",
      "source": [
        "def colonoscopy(age):\n",
        "    if age < 50:\n",
        "        print(\"Colonoscopy is generally recommended for individuals aged 50 and above.\")\n",
        "    elif age >= 50 and age < 60:\n",
        "        print(\"It is recommended to have a colonoscopy every 10 years.\")\n",
        "    elif age >= 60 and age < 75:\n",
        "        print(\"It is recommended to have a colonoscopy every 5 to 10 years.\")\n",
        "    else:\n",
        "        print(\"Please consult with your healthcare provider for personalized recommendations.\")\n",
        "\n",
        "age = int(input(\"Please Enter Your age: \"))\n",
        "\n",
        "colonoscopy(user_age)\n"
      ],
      "metadata": {
        "colab": {
          "base_uri": "https://localhost:8080/"
        },
        "id": "X_WVlmq-dHrJ",
        "outputId": "f311b10a-c5e6-4f25-a59c-e977ffad2521"
      },
      "execution_count": null,
      "outputs": [
        {
          "output_type": "stream",
          "name": "stdout",
          "text": [
            "Please Enter Your age: 67\n",
            "Colonoscopy is generally recommended for individuals aged 50 and above.\n"
          ]
        }
      ]
    },
    {
      "cell_type": "markdown",
      "source": [
        "11) BONE DENSITY CALCULATOR"
      ],
      "metadata": {
        "id": "I9VxWsq0d7xF"
      }
    },
    {
      "cell_type": "code",
      "source": [
        "def calculate_t_score(bmd, bmd_reference):\n",
        "    t_score = (bmd - bmd_reference) / bmd_reference * 100\n",
        "    return t_score\n",
        "\n",
        "def bone_density_calculator():\n",
        "    print(\"Welcome to the Bone Density Calculator!\")\n",
        "    print(\"Please enter the required information.\")\n",
        "\n",
        "    bmd = float(input(\"Enter the measured bone mineral density (BMD) in g/cm^2: \"))\n",
        "\n",
        "    bmd_reference = float(input(\"Enter the reference bone mineral density (BMD) in g/cm^2 for comparison: \"))\n",
        "\n",
        "    t_score = calculate_t_score(bmd, bmd_reference)\n",
        "\n",
        "    print(f\"The calculated T-score is {t_score:.2f}.\")\n",
        "    print(\"Your Ideal Bone Density T-Score Should Be: -1 to +1\")\n",
        "\n",
        "bone_density_calculator()\n"
      ],
      "metadata": {
        "colab": {
          "base_uri": "https://localhost:8080/"
        },
        "id": "-a5aQ3P_d_8o",
        "outputId": "fa159339-4026-4e65-a633-f732da1b2ab5"
      },
      "execution_count": null,
      "outputs": [
        {
          "output_type": "stream",
          "name": "stdout",
          "text": [
            "Welcome to the Bone Density Calculator!\n",
            "Please enter the required information.\n",
            "Enter the measured bone mineral density (BMD) in g/cm^2: 250\n",
            "Enter the reference bone mineral density (BMD) in g/cm^2 for comparison: 220\n",
            "The calculated T-score is 13.64.\n",
            "Your Ideal Bone Density T-Score Should Be: -1 to +1\n"
          ]
        }
      ]
    }
  ]
}